{
 "cells": [
  {
   "cell_type": "code",
   "execution_count": 1,
   "id": "967a9229-deb6-4931-a17c-35f891297102",
   "metadata": {},
   "outputs": [
    {
     "name": "stdin",
     "output_type": "stream",
     "text": [
      "Please input network filename:  input_100_400_1.sp\n",
      "Please input the origin (input '0' to stop):  1\n",
      "Please input the destination:  2\n"
     ]
    },
    {
     "name": "stdout",
     "output_type": "stream",
     "text": [
      "1-2: [3] 2<1\n"
     ]
    },
    {
     "name": "stdin",
     "output_type": "stream",
     "text": [
      "Please input the origin (input '0' to stop):  2\n",
      "Please input the destination:  3\n"
     ]
    },
    {
     "name": "stdout",
     "output_type": "stream",
     "text": [
      "2-3: [8] 3<2\n"
     ]
    },
    {
     "name": "stdin",
     "output_type": "stream",
     "text": [
      "Please input the origin (input '0' to stop):  1\n",
      "Please input the destination:  5\n"
     ]
    },
    {
     "name": "stdout",
     "output_type": "stream",
     "text": [
      "1-5: [6] 5<4<19<94<1\n"
     ]
    },
    {
     "name": "stdin",
     "output_type": "stream",
     "text": [
      "Please input the origin (input '0' to stop):  1\n",
      "Please input the destination:  53\n"
     ]
    },
    {
     "name": "stdout",
     "output_type": "stream",
     "text": [
      "1-53: [7] 53<2<1\n"
     ]
    },
    {
     "name": "stdin",
     "output_type": "stream",
     "text": [
      "Please input the origin (input '0' to stop):  31\n",
      "Please input the destination:  42\n"
     ]
    },
    {
     "name": "stdout",
     "output_type": "stream",
     "text": [
      "31-42: [23] 42<99<67<3<31\n"
     ]
    },
    {
     "name": "stdin",
     "output_type": "stream",
     "text": [
      "Please input the origin (input '0' to stop):  0\n"
     ]
    },
    {
     "name": "stdout",
     "output_type": "stream",
     "text": [
      "-END-\n"
     ]
    }
   ],
   "source": [
    "\"\"\"\n",
    "This code can run without problem.\n",
    "\n",
    "How to run:\n",
    "1. Please input network filename:\n",
    "2. then it does the shortest path calculation by Dijkstra's algorithm (min-heap)\n",
    "3. then use a while loop to ask the user to input the origin  (say, s)\n",
    "     if the origin is '0', then the code STOP\n",
    "     else the code will ask the user to input the destination (say, t),\n",
    "     and output the shortest distance from s to t and the entire path\n",
    "\n",
    "This code is written by 王晏國, email h44114025@gs.ncku.edu.tw, on 2023/12/16\n",
    "\"\"\"\n",
    "\n",
    "\n",
    "import heapq\n",
    "import re\n",
    "import numpy as np\n",
    "\n",
    "# 前處理\n",
    "def sp_to_txt(sp_file, txt_file):\n",
    "    with open(sp_file, \"r\") as sp:\n",
    "        with open(txt_file, \"w\") as txt:\n",
    "            for line in sp:\n",
    "                if line[0] == \"c\":\n",
    "                    continue\n",
    "                elif line[0] == \"t\":\n",
    "                    modified_line = re.sub('\\s+', ',', line)\n",
    "                    txt.write(modified_line + '\\n')\n",
    "                elif line[0] == \"a\":\n",
    "                    modified_line = re.sub('\\s+', ',', line)\n",
    "                    txt.write(modified_line + '\\n')\n",
    "                elif line[0] == \"p\":\n",
    "                    modified_line = re.sub('\\s+', ',', line)\n",
    "                    txt.write(modified_line + '\\n')\n",
    "                elif line[0] == \"n\":\n",
    "                    modified_line = re.sub('\\s+', ',', line)\n",
    "                    txt.write(modified_line + '\\n')\n",
    "\n",
    "def filename():\n",
    "    with open(txt_file, \"r\") as file:\n",
    "        filename = file.readline().split(\",\")[1]\n",
    "\n",
    "    return filename\n",
    "\n",
    "def extract_numbers(line):\n",
    "    # 使用正則表達式匹配數字\n",
    "    numbers = re.findall(r'\\d+', line)\n",
    "    # 將匹配到的數字轉換為整數\n",
    "    numbers = [int(num) for num in numbers]\n",
    "    return numbers\n",
    "\n",
    "def sp_to_list(txt_file):\n",
    "    in_list = []\n",
    "    # 開啟.sp檔案以讀取模式\n",
    "    with open(txt_file, 'r') as num_file:\n",
    "        for line in num_file:\n",
    "            # 提取每一行的數字並形成串列\n",
    "            numbers = extract_numbers(line)\n",
    "            in_list.append(numbers)\n",
    "\n",
    "    return in_list\n",
    "\n",
    "\"\"\"---------------------------------------------------------------\"\"\"\n",
    "# 完成檔案處理\n",
    "\n",
    "sp_file = input(\"Please input network filename: \")\n",
    "txt_file = \"output.txt\"\n",
    "sp_to_txt(sp_file, txt_file)\n",
    "numbers_list = sp_to_list(txt_file)\n",
    "# print(numbers_list)\n",
    "\n",
    "\"\"\"---------------------------------------------------------------\"\"\"\n",
    "# Functions\n",
    "\n",
    "def From_nodes():\n",
    "    From = np.zeros(numbers_list[1][1])\n",
    "    for index in range(numbers_list[1][1]):\n",
    "        From[index] += numbers_list[index+3][0]\n",
    "\n",
    "    return From\n",
    "\n",
    "\n",
    "def To_nodes():\n",
    "    To = np.zeros(numbers_list[1][1])\n",
    "    for index in range(numbers_list[1][1]):\n",
    "        To[index] += numbers_list[index + 3][1]\n",
    "\n",
    "    return To\n",
    "\n",
    "def Length_list():\n",
    "    Length = np.zeros(numbers_list[1][1])\n",
    "    for index in range(numbers_list[1][1]):\n",
    "        Length[index] += numbers_list[index + 3][2]\n",
    "\n",
    "    return Length\n",
    "\n",
    "\n",
    "def Binary_min_heap():  # 要記(length, pred, current)\n",
    "    From = From_nodes()\n",
    "    To = To_nodes()\n",
    "    Length = Length_list()\n",
    "\n",
    "    heap = [(0, 0, origin)]    # (length, from_node)\n",
    "    path = []\n",
    "    visited = []\n",
    "    inf_of_node = []\n",
    "    shortest_distance = 0\n",
    "\n",
    "    while len(heap) != 0:\n",
    "\n",
    "        (length, pred, current) = heapq.heappop(heap)\n",
    "        if current == destination:  # 若起點為給定之終點，跳出迴圈\n",
    "            visited.append(current)\n",
    "            break\n",
    "\n",
    "        if current not in visited and current == origin:  # 若現在的起點先前沒當過起點，則開始scan\n",
    "            visited.append(current)\n",
    "            inf_of_node.append((length, pred, current))\n",
    "        elif current not in visited and current != origin:\n",
    "            visited.append(current)\n",
    "        elif current in visited:   # 當過起點，則continue\n",
    "            continue\n",
    "\n",
    "        for i in range(numbers_list[1][1]):     # 同一個起點的scan\n",
    "            if int(From[i]) == current:     # scan\n",
    "                node_set = (int(length + Length[i]), current, int(To[i]))\n",
    "\n",
    "                for j in range(len(inf_of_node)):   # 判斷是否需要distance update\n",
    "\n",
    "                    if node_set[2] == inf_of_node[j][2]:  # 若從先前的node資訊內發現inf_of_node[2]和現在scan到的node是同一個\n",
    "\n",
    "                        if node_set[0] < inf_of_node[j][0]:     # 代表需要做distance label的檢查\n",
    "                            inf_of_node[j] = node_set   # 若現在累積的length小於原本紀錄的，則把原本的node資訊換成現在的\n",
    "                            heapq.heappush(heap, node_set)\n",
    "                            break\n",
    "                        elif node_set[0] > inf_of_node[j][0]:\n",
    "                            break\n",
    "\n",
    "                    elif node_set[2] != inf_of_node[j][2] and j != len(inf_of_node)-1:\n",
    "                        continue\n",
    "\n",
    "                    else:\n",
    "                        inf_of_node.append(node_set)\n",
    "                        heapq.heappush(heap, node_set)\n",
    "                        break\n",
    "\n",
    "\n",
    "    find_pred = 0\n",
    "    times = 0\n",
    "    # print(inf_of_node)\n",
    "\n",
    "    while find_pred != origin:\n",
    "        if times == 0:\n",
    "            for i in range(len(inf_of_node)):\n",
    "                if inf_of_node[i][2] == destination:\n",
    "                    shortest_distance = inf_of_node[i][0]\n",
    "                    path.append(inf_of_node[i][2])\n",
    "                    find_pred = inf_of_node[i][1]\n",
    "                    # print(inf_of_node)\n",
    "                    times += 1\n",
    "        elif times >= 1:\n",
    "            for j in range(len(inf_of_node)):\n",
    "                if inf_of_node[j][2] == find_pred:\n",
    "                    path.append(inf_of_node[j][2])\n",
    "                    find_pred = inf_of_node[j][1]\n",
    "    if find_pred == origin:\n",
    "        path.append(origin)\n",
    "    #print(path)\n",
    "\n",
    "    return [path, shortest_distance]\n",
    "\n",
    "\"\"\"---------------------------------------------------------------\"\"\"\n",
    "# 執行\n",
    "\n",
    "while True:\n",
    "    order_str = \"\"\n",
    "\n",
    "    origin = int(input(\"Please input the origin (input '0' to stop): \"))\n",
    "    if origin != 0:\n",
    "        destination = int(input(\"Please input the destination: \"))\n",
    "        heap_output = Binary_min_heap()\n",
    "\n",
    "        for index in range(len(heap_output[0])):\n",
    "            if index != len(heap_output[0])-1:\n",
    "                order_str += str(heap_output[0][index]) + \"<\"\n",
    "            else:\n",
    "                order_str += str(heap_output[0][index])\n",
    "\n",
    "        print(f\"{origin}-{destination}: [{heap_output[1]}] {order_str}\")\n",
    "    else:\n",
    "        print(\"-END-\")\n",
    "        break\n",
    "\n"
   ]
  },
  {
   "cell_type": "code",
   "execution_count": null,
   "id": "20fc11c8-2a40-433e-a81f-4b8aa60a5325",
   "metadata": {},
   "outputs": [],
   "source": []
  }
 ],
 "metadata": {
  "kernelspec": {
   "display_name": "Python 3 (ipykernel)",
   "language": "python",
   "name": "python3"
  },
  "language_info": {
   "codemirror_mode": {
    "name": "ipython",
    "version": 3
   },
   "file_extension": ".py",
   "mimetype": "text/x-python",
   "name": "python",
   "nbconvert_exporter": "python",
   "pygments_lexer": "ipython3",
   "version": "3.9.12"
  }
 },
 "nbformat": 4,
 "nbformat_minor": 5
}
