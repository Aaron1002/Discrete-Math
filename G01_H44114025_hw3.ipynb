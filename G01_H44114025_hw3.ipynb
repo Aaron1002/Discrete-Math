{
 "cells": [
  {
   "cell_type": "code",
   "execution_count": 2,
   "id": "f3f2e732-43a9-42f5-9f0b-5329c2453504",
   "metadata": {},
   "outputs": [
    {
     "name": "stdin",
     "output_type": "stream",
     "text": [
      "Please input the filename or path of a test network:  input_100_400_1.sp\n"
     ]
    },
    {
     "name": "stdout",
     "output_type": "stream",
     "text": [
      "The network name is rd_100_400_100_l with n=100 nodes and m=400 arcs.\n"
     ]
    },
    {
     "name": "stdin",
     "output_type": "stream",
     "text": [
      "Please choose which data structure to use (1 for adjacency matrix; 2 for adjacency list):  2\n"
     ]
    },
    {
     "name": "stdout",
     "output_type": "stream",
     "text": [
      "The Adjacency List is used.\n"
     ]
    },
    {
     "name": "stdin",
     "output_type": "stream",
     "text": [
      "Please input a source node node s (0 to STOP):  1\n"
     ]
    },
    {
     "name": "stdout",
     "output_type": "stream",
     "text": [
      "BFS touches 1 2 6 94 90 3 37 53 5 74 36 39 82 34 77 7 20 72 95 19 14 91 23 55 4 56 61 21 67 38 79 64 52 54 83 46 40 17 75 57 41 8 73 59 85 25 35 78 80 28 27 93 22 96 44 43 29 15 9 92 16 24 69 48 45 31 86 62 88 11 68 99 12 89 65 26 71 33 84 66 58 76 60 47 18 70 42 10 13 30 81 50 97 49 32 87 63 100 98 51 \n"
     ]
    },
    {
     "name": "stdin",
     "output_type": "stream",
     "text": [
      "Please input a source node node s (0 to STOP):  2\n"
     ]
    },
    {
     "name": "stdout",
     "output_type": "stream",
     "text": [
      "BFS touches 2 3 37 53 1 5 74 36 39 82 34 77 4 56 61 21 67 38 79 64 52 54 83 46 40 17 72 6 94 90 75 57 41 8 73 59 85 25 35 14 78 80 28 27 48 45 31 86 62 88 22 11 23 68 99 12 43 89 65 26 19 93 71 33 84 55 66 58 76 60 47 18 7 20 95 91 70 9 16 42 10 13 30 15 81 50 29 49 32 87 24 63 69 100 44 98 96 92 51 97 \n"
     ]
    },
    {
     "name": "stdin",
     "output_type": "stream",
     "text": [
      "Please input a source node node s (0 to STOP):  3\n"
     ]
    },
    {
     "name": "stdout",
     "output_type": "stream",
     "text": [
      "BFS touches 3 4 56 61 21 67 5 48 37 45 31 57 74 86 17 62 52 88 22 94 39 11 23 68 27 99 12 6 53 49 38 79 64 46 71 73 32 58 84 9 19 16 75 87 24 18 63 14 90 95 33 89 40 82 83 80 93 59 69 28 34 100 42 13 7 20 72 54 50 76 43 65 26 47 55 85 98 70 10 92 29 15 66 25 60 96 2 81 44 36 91 41 35 1 8 51 77 30 97 78 \n"
     ]
    },
    {
     "name": "stdin",
     "output_type": "stream",
     "text": [
      "Please input a source node node s (0 to STOP):  0\n"
     ]
    },
    {
     "name": "stdout",
     "output_type": "stream",
     "text": [
      "STOP!\n"
     ]
    }
   ],
   "source": [
    "\"\"\"\n",
    "How to run:\n",
    "1. input the network filename  & data structure type\n",
    "2. it reads the file and stores the graph by adjacency matrix and list\n",
    "3. it asks the user to input a source node index s, and then print out the node sequence by BFS.\n",
    "4. it repeats step 3, unless s=0, which terminates the code\n",
    "\n",
    "This code is written by 王晏國, email h44114025@gs.ncku.edu.tw, on 2023/11/29\n",
    "\"\"\"\n",
    "\n",
    "import re\n",
    "import numpy as np\n",
    "\n",
    "# 前處理\n",
    "def sp_to_txt(sp_file, txt_file):\n",
    "    with open(sp_file, \"r\") as sp:\n",
    "        with open(txt_file, \"w\") as txt:\n",
    "            for line in sp:\n",
    "                if line[0] == \"c\":\n",
    "                    continue\n",
    "                elif line[0] == \"t\":\n",
    "                    modified_line = re.sub('\\s+', ',', line)\n",
    "                    txt.write(modified_line + '\\n')\n",
    "                elif line[0] == \"a\":\n",
    "                    modified_line = re.sub('\\s+', ',', line)\n",
    "                    txt.write(modified_line + '\\n')\n",
    "                elif line[0] == \"p\":\n",
    "                    modified_line = re.sub('\\s+', ',', line)\n",
    "                    txt.write(modified_line + '\\n')\n",
    "                elif line[0] == \"n\":\n",
    "                    modified_line = re.sub('\\s+', ',', line)\n",
    "                    txt.write(modified_line + '\\n')\n",
    "\n",
    "def filename():\n",
    "    with open(txt_file, \"r\") as file:\n",
    "        filename = file.readline().split(\",\")[1]\n",
    "\n",
    "    return filename\n",
    "\n",
    "def extract_numbers(line):\n",
    "    # 使用正則表達式匹配數字\n",
    "    numbers = re.findall(r'\\d+', line)\n",
    "    # 將匹配到的數字轉換為整數\n",
    "    numbers = [int(num) for num in numbers]\n",
    "    return numbers\n",
    "\n",
    "def sp_to_list(txt_file):\n",
    "    in_list = []\n",
    "    # 開啟.sp檔案以讀取模式\n",
    "    with open(txt_file, 'r') as num_file:\n",
    "        for line in num_file:\n",
    "            # 提取每一行的數字並形成串列\n",
    "            numbers = extract_numbers(line)\n",
    "            in_list.append(numbers)\n",
    "\n",
    "    return in_list\n",
    "\n",
    "\"\"\"---------------------------------------------------------------\"\"\"\n",
    "# Functions\n",
    "\n",
    "# Adjacency Matrix\n",
    "def Adjacency_matrix():\n",
    "    ad_matrix = np.zeros((numbers_list[1][0], numbers_list[1][0]))  # 生成n*n matrix(初始化為0)\n",
    "    for index in range(numbers_list[1][1]+3):   # 有n+2行，含\"p\"&\"n\"\n",
    "        if index <= 2:\n",
    "            continue\n",
    "        ad_matrix[numbers_list[index][0]-1][numbers_list[index][1]-1] += 1  # 建立完整matrix\n",
    "\n",
    "    return ad_matrix\n",
    "\n",
    "\n",
    "# Adjacency List functions\n",
    "def From_nodes():\n",
    "    From = np.zeros(numbers_list[1][1])\n",
    "    for index in range(numbers_list[1][1]):\n",
    "        From[index] += numbers_list[index+3][0]\n",
    "\n",
    "    return From\n",
    "\n",
    "\n",
    "def To_nodes():\n",
    "    To = np.zeros(numbers_list[1][1])\n",
    "    for index in range(numbers_list[1][1]):\n",
    "        To[index] += numbers_list[index + 3][1]\n",
    "\n",
    "    return To\n",
    "\n",
    "# BFS functions\n",
    "def BFS_List():\n",
    "    order_list = [source_node]   # node被使用的順序\n",
    "    From_list = From_nodes()\n",
    "    To_list = To_nodes()\n",
    "    result_list = []\n",
    "    while len(order_list) != 0:\n",
    "        for i in range(len(From_list)):\n",
    "            if From_list[i] == order_list[0]:\n",
    "                try:\n",
    "                    result_list.index(From_list[i])  # 是否用過這個node當起點\n",
    "                except:\n",
    "                     try:\n",
    "                        result_list.index(To_list[i])\n",
    "                     except:\n",
    "                        try:\n",
    "                            order_list.index(To_list[i])\n",
    "                            continue\n",
    "                        except:\n",
    "                            order_list.append(int(To_list[i]))\n",
    "        result_list.append(order_list[0])\n",
    "        order_list.remove(order_list[0])\n",
    "    result = \"\"\n",
    "    for i in range(len(result_list)):\n",
    "        result += str(result_list[i]) + \" \"\n",
    "\n",
    "    return result\n",
    "\n",
    "\n",
    "def BFS_Matrix():\n",
    "    ad_matrix = Adjacency_matrix()\n",
    "    order_list = [source_node]\n",
    "    result_list = []\n",
    "    From = []\n",
    "    To = []\n",
    "    for i in range(numbers_list[1][0]):\n",
    "        for j in range(numbers_list[1][0]):\n",
    "            if ad_matrix[i][j] != 0:\n",
    "                From.append(i+1)\n",
    "                To.append(j+1)\n",
    "\n",
    "    while len(order_list) != 0:\n",
    "        for i in range(len(From)):\n",
    "            if From[i] == order_list[0]:\n",
    "                try:\n",
    "                    result_list.index(From[i])  # 是否用過這個node當起點\n",
    "                except:\n",
    "                     try:\n",
    "                        result_list.index(To[i])\n",
    "                     except:\n",
    "                        try:\n",
    "                            order_list.index(To[i])\n",
    "                            continue\n",
    "                        except:\n",
    "                            order_list.append(int(To[i]))\n",
    "        result_list.append(order_list[0])\n",
    "        order_list.remove(order_list[0])\n",
    "\n",
    "    result = \"\"\n",
    "    for i in range(len(result_list)):\n",
    "        result += str(result_list[i]) + \" \"\n",
    "\n",
    "    return result\n",
    "\n",
    "\"\"\"-------------------------------------------------\"\"\"\n",
    "\n",
    "# 執行\n",
    "sp_file = input(\"Please input the filename or path of a test network: \")\n",
    "txt_file = \"output.txt\"\n",
    "sp_to_txt(sp_file, txt_file)\n",
    "numbers_list = sp_to_list(txt_file)\n",
    "# print(numbers_list)\n",
    "print(f\"The network name is {filename()} with n={numbers_list[1][0]} nodes and m={numbers_list[1][1]} arcs.\")\n",
    "\n",
    "DS = int(input(\"Please choose which data structure to use (1 for adjacency matrix; 2 for adjacency list): \"))\n",
    "if DS == 1:\n",
    "    print(\"The Adjacency Matrix is used.\")\n",
    "    while True:\n",
    "        source_node = int(input(\"Please input a source node node s (0 to STOP): \"))\n",
    "        if source_node == 0:\n",
    "            print(\"STOP!\")\n",
    "            break\n",
    "        else:\n",
    "            print(f\"BFS touches {BFS_Matrix()}\")\n",
    "elif DS == 2:\n",
    "    print(\"The Adjacency List is used.\")\n",
    "    while True:\n",
    "        source_node = int(input(\"Please input a source node node s (0 to STOP): \"))\n",
    "        if source_node == 0:\n",
    "            print(\"STOP!\")\n",
    "            break\n",
    "        else:\n",
    "            print(f\"BFS touches {BFS_List()}\")\n"
   ]
  },
  {
   "cell_type": "code",
   "execution_count": null,
   "id": "2627c5e4-6c1a-46f8-92e9-a1399c8f70d5",
   "metadata": {},
   "outputs": [],
   "source": []
  }
 ],
 "metadata": {
  "kernelspec": {
   "display_name": "Python 3 (ipykernel)",
   "language": "python",
   "name": "python3"
  },
  "language_info": {
   "codemirror_mode": {
    "name": "ipython",
    "version": 3
   },
   "file_extension": ".py",
   "mimetype": "text/x-python",
   "name": "python",
   "nbconvert_exporter": "python",
   "pygments_lexer": "ipython3",
   "version": "3.9.12"
  }
 },
 "nbformat": 4,
 "nbformat_minor": 5
}
