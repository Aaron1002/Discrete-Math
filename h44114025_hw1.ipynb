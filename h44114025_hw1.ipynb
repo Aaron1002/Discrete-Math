{
 "cells": [
  {
   "cell_type": "code",
   "execution_count": 6,
   "id": "d7606dd1-a1ec-44f4-a744-4a36b50f6cad",
   "metadata": {},
   "outputs": [
    {
     "name": "stdin",
     "output_type": "stream",
     "text": [
      "Which mode do you want to use?('Read file' mode(enter '0'), 'Enter value' mode(enter 1), or 'Random value' mode(enter 2).) 2\n",
      "How many coefficients do you want? f\n"
     ]
    },
    {
     "name": "stdout",
     "output_type": "stream",
     "text": [
      "The input should be an integer, please try again.\n"
     ]
    },
    {
     "name": "stdin",
     "output_type": "stream",
     "text": [
      "How many coefficients do you want? 4\n",
      "Enter the maximum of coefficients:  6\n",
      "Enter the minimum of coefficients:  9\n"
     ]
    },
    {
     "name": "stdout",
     "output_type": "stream",
     "text": [
      "The maximum should be bigger than the minimum.\n"
     ]
    },
    {
     "name": "stdin",
     "output_type": "stream",
     "text": [
      "Enter the maximum of coefficients:  3\n",
      "Enter the minimum of coefficients:  6\n"
     ]
    },
    {
     "name": "stdout",
     "output_type": "stream",
     "text": [
      "The maximum should be bigger than the minimum.\n"
     ]
    },
    {
     "name": "stdin",
     "output_type": "stream",
     "text": [
      "Enter the maximum of coefficients:  7\n",
      "Enter the minimum of coefficients:  2\n"
     ]
    },
    {
     "name": "stdout",
     "output_type": "stream",
     "text": [
      "f(x) = 4.921540593494122 + 5.032701607401987 x^1 + 5.659538950501005 x^2 + 5.463838957782123 x^3\n"
     ]
    },
    {
     "name": "stdin",
     "output_type": "stream",
     "text": [
      "Enter a value of x(enter '0' to complete entering.):  g\n"
     ]
    },
    {
     "name": "stdout",
     "output_type": "stream",
     "text": [
      "The value of x should be a float or integer.\n"
     ]
    },
    {
     "name": "stdin",
     "output_type": "stream",
     "text": [
      "Enter a value of x(enter '0' to complete entering.):  5\n"
     ]
    },
    {
     "name": "stdout",
     "output_type": "stream",
     "text": [
      "854.5533921157945\n"
     ]
    },
    {
     "name": "stdin",
     "output_type": "stream",
     "text": [
      "Enter a value of x(enter '0' to complete entering.):  6\n"
     ]
    },
    {
     "name": "stdout",
     "output_type": "stream",
     "text": [
      "1419.0503673368808\n"
     ]
    },
    {
     "name": "stdin",
     "output_type": "stream",
     "text": [
      "Enter a value of x(enter '0' to complete entering.):  6.8\n"
     ]
    },
    {
     "name": "stdout",
     "output_type": "stream",
     "text": [
      "2018.8468037683424\n"
     ]
    },
    {
     "name": "stdin",
     "output_type": "stream",
     "text": [
      "Enter a value of x(enter '0' to complete entering.):  6.0\n"
     ]
    },
    {
     "name": "stdout",
     "output_type": "stream",
     "text": [
      "1419.0503673368808\n"
     ]
    },
    {
     "name": "stdin",
     "output_type": "stream",
     "text": [
      "Enter a value of x(enter '0' to complete entering.):  0\n"
     ]
    },
    {
     "name": "stdout",
     "output_type": "stream",
     "text": [
      "4.921540593494122\n"
     ]
    }
   ],
   "source": [
    "'''This code can run without a problem.\n",
    "\n",
    "How to run: \n",
    "1. Choose one of the three kind of modes.\n",
    "\n",
    "a-2 Mode 1: input the file that contains 2 lines, where line 1 is an integer n; and line 2 contains n+1 real numbers a[0], a[1],..., a[n]\n",
    "a-3 It will print out a text like f(x)= a[0] + a[1] x^1 + a[2] x^2 + ... + a[n] x^n \n",
    "a-4 It will ask the user to input a value of x, say, b. Then it calculates and outputs f(b)\n",
    "a-5 It repeats step 3, unless b=0, which prints out f(0) and STOP\n",
    "\n",
    "b-2 Mode 2: input some real numbers to be coefficients a[0], a[1],..., a[n]\n",
    "b-3 It will print out a text like f(x)= a[0] + a[1] x^1 + a[2] x^2 + ... + a[n] x^n \n",
    "b-4 It will ask the user to input a value of x, say, b. Then it calculates and outputs f(b)\n",
    "b-5 It repeats step 3, unless b=0, which prints out f(0) and STOP\n",
    "\n",
    "c-2 Mode 3: input an integer n(it represent n coefficients) \n",
    "c-3 input the upper bound and lower bound of coefficients\n",
    "c-4 It will print out a text like f(x)= a[0] + a[1] x^1 + a[2] x^2 + ... + a[n] x^n \n",
    "c-5 It will ask the user to input a value of x, say, b. Then it calculates and outputs f(b)\n",
    "c-6 It repeats step 3, unless b=0, which prints out f(0) and STOP\n",
    "\n",
    "This code is written by 王晏國, email h44114025@gs.ncku.edu.tw, on 2023/09/8'''\n",
    "\n",
    "def readfile():\n",
    "    # 讀檔案及產生f(x)\n",
    "    while True:\n",
    "        file_name = input(\"Enter a filename: \")\n",
    "        try:\n",
    "            with open(file_name, mode=\"r\", encoding=\"utf-8\") as file:\n",
    "                n = int(file.readline())\n",
    "                temp = file.readline().split()  # str型態element\n",
    "                coefficient_float = []\n",
    "                for coef in temp:\n",
    "                    coefficient_float.append(float(coef))  # float型態element\n",
    "                expression = \"f(x) = \"\n",
    "                for i, coef in enumerate(coefficient_float):\n",
    "                    if coef != 0:\n",
    "                        if i == 0:\n",
    "                            if coef > 0:\n",
    "                                expression += str(\"{:g}\".format(coef))\n",
    "                            elif coef < 0:\n",
    "                                coef = abs(coef)\n",
    "                                expression += \"- \" + str(\"{:g}\".format(coef))\n",
    "                        else:\n",
    "                            if coef > 0:\n",
    "                                expression += \" + \" + str(\"{:g}\".format(coef)) + \" x^\" + str(i)\n",
    "                            elif coef < 0:\n",
    "                                coef = abs(coef)\n",
    "                                expression += \" - \" + str(\"{:g}\".format(coef)) + \" x^\" + str(i)\n",
    "                print(expression)\n",
    "                break\n",
    "        except:\n",
    "            print(\"The filename {} does not exist, please try again.\".format(file_name))\n",
    "            continue\n",
    "    # 代入x值\n",
    "    while True:\n",
    "        try:\n",
    "            x_value = float(input(\"Enter a value of x(enter '0' to complete entering.): \"))\n",
    "            fx = 0\n",
    "            if x_value == 0:\n",
    "                for i, x in enumerate(coefficient_float):\n",
    "                    fx += x * (x_value ** i)\n",
    "                print(fx)\n",
    "                break\n",
    "            for i, x in enumerate(coefficient_float):\n",
    "                fx += x * (x_value ** i)\n",
    "            print(fx)\n",
    "        except:\n",
    "            print(\"The value of x should be a float or integer.\")\n",
    "            continue\n",
    "\n",
    "\n",
    "def enter_value():\n",
    "    coef_list = []\n",
    "    # 使用者輸入\n",
    "    while True:\n",
    "        try:\n",
    "            coef = input(\"Enter some coefficients of function f.(enter 'quit' to complete entering): \")\n",
    "            if coef == \"quit\":\n",
    "                break\n",
    "            else:\n",
    "                coef = float(coef)\n",
    "            coef_list.append(coef)\n",
    "        except:\n",
    "            print(\"The inputs should be floats or integer, please try again.\")\n",
    "            continue\n",
    "\n",
    "    # 產生f(x)\n",
    "    expression = \"f(x) = \"\n",
    "    for i, coef in enumerate(coef_list):\n",
    "        if coef != 0:\n",
    "            if i == 0:\n",
    "                if coef > 0:\n",
    "                    expression += str(\"{:g}\".format(coef))\n",
    "                elif coef < 0:\n",
    "                    expression += \"- \" + str(\"{:g}\".format(abs(coef)))\n",
    "            else:\n",
    "                if coef > 0:\n",
    "                    expression += \" + \" + str(\"{:g}\".format(coef)) + \" x^\" + str(i)\n",
    "                elif coef < 0:\n",
    "                    expression += \" - \" + str(\"{:g}\".format(abs(coef))) + \" x^\" + str(i)\n",
    "    print(expression)\n",
    "\n",
    "    # 代入x值\n",
    "    while True:\n",
    "        try:\n",
    "            x_value = float(input(\"Enter a value of x(enter '0' to complete entering.): \"))\n",
    "            fx = 0\n",
    "            if x_value == 0:\n",
    "                for i, x in enumerate(coef_list):\n",
    "                    fx += x * (x_value ** i)\n",
    "                print(fx)\n",
    "                break\n",
    "            for i, x in enumerate(coef_list):\n",
    "                fx += x * (x_value ** i)\n",
    "            print(fx)\n",
    "        except:\n",
    "            print(\"The value of x should be a float or integer.\")\n",
    "            continue\n",
    "\n",
    "\n",
    "def random_value():\n",
    "    import random\n",
    "\n",
    "    # 幾個係數\n",
    "    while True:\n",
    "        try:\n",
    "            n = input(\"How many coefficients do you want?\")\n",
    "            n = int(n)\n",
    "            break\n",
    "        except:\n",
    "            print(\"The input should be an integer, please try again.\")\n",
    "            continue\n",
    "    # 數字範圍\n",
    "    while True:\n",
    "        try:\n",
    "            max_coef = input(\"Enter the maximum of coefficients: \")\n",
    "            max_coef = float(max_coef)\n",
    "            min_coef = input(\"Enter the minimum of coefficients: \")\n",
    "            min_coef = float(min_coef)\n",
    "            if max_coef < min_coef:\n",
    "                print(\"The maximum should be bigger than the minimum.\")\n",
    "                continue\n",
    "            break\n",
    "        except:\n",
    "            print(\"The input should be an integer or float, please try again.\")\n",
    "            continue\n",
    "\n",
    "    # 產生範圍內隨機float\n",
    "    coef_list = []\n",
    "    for coef in range(n):\n",
    "        rand = random.uniform(min_coef, max_coef)\n",
    "        coef_list.append(rand)\n",
    "    expression = \"f(x) = \"\n",
    "    for i, coef in enumerate(coef_list):\n",
    "        if coef != 0:\n",
    "            if i == 0:\n",
    "                if coef > 0:\n",
    "                    expression += str(coef)\n",
    "                elif coef < 0:\n",
    "                    expression += \"- \" + str(abs(coef))\n",
    "            else:\n",
    "                if coef > 0:\n",
    "                    expression += \" + \" + str(coef) + \" x^\" + str(i)\n",
    "                elif coef < 0:\n",
    "                    expression += \" - \" + str(abs(coef)) + \" x^\" + str(i)\n",
    "    print(expression)\n",
    "\n",
    "    # 代入x值\n",
    "    while True:\n",
    "        try:\n",
    "            x_value = float(input(\"Enter a value of x(enter '0' to complete entering.): \"))\n",
    "            fx = 0\n",
    "            if x_value == 0:\n",
    "                for i, x in enumerate(coef_list):\n",
    "                    fx += x * (x_value ** i)\n",
    "                print(fx)\n",
    "                break\n",
    "            for i, x in enumerate(coef_list):\n",
    "                fx += x * (x_value ** i)\n",
    "            print(fx)\n",
    "        except:\n",
    "            print(\"The value of x should be a float or integer.\")\n",
    "            continue\n",
    "\n",
    "while True:\n",
    "    mode_choice = input(\"Which mode do you want to use?('Read file' mode(enter '0'), 'Enter value' mode(enter 1), or 'Random value' mode(enter 2).)\")\n",
    "    if mode_choice == \"0\":\n",
    "        readfile()\n",
    "        break\n",
    "    elif mode_choice == \"1\":\n",
    "        enter_value()\n",
    "        break\n",
    "    elif mode_choice == \"2\":\n",
    "        random_value()\n",
    "        break\n",
    "    else:\n",
    "        print(\"Valid input, please try again.\")\n",
    "        continue\n"
   ]
  },
  {
   "cell_type": "code",
   "execution_count": null,
   "id": "36bc5244-859d-4f19-b1c4-648c48e331a3",
   "metadata": {},
   "outputs": [],
   "source": []
  }
 ],
 "metadata": {
  "kernelspec": {
   "display_name": "Python 3 (ipykernel)",
   "language": "python",
   "name": "python3"
  },
  "language_info": {
   "codemirror_mode": {
    "name": "ipython",
    "version": 3
   },
   "file_extension": ".py",
   "mimetype": "text/x-python",
   "name": "python",
   "nbconvert_exporter": "python",
   "pygments_lexer": "ipython3",
   "version": "3.9.12"
  }
 },
 "nbformat": 4,
 "nbformat_minor": 5
}
