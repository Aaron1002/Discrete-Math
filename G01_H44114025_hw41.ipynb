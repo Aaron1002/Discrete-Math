{
 "cells": [
  {
   "cell_type": "code",
   "execution_count": 2,
   "id": "f20aaa08-3936-4e4d-8a1e-f8606e04966f",
   "metadata": {},
   "outputs": [
    {
     "name": "stdin",
     "output_type": "stream",
     "text": [
      "Please input network filename:  input_100_400_1.sp\n",
      "Please input a source node (input '0' to stop):  12\n",
      "Please input a sink node:  32\n"
     ]
    },
    {
     "name": "stdout",
     "output_type": "stream",
     "text": [
      "12-32: [5]\n"
     ]
    },
    {
     "name": "stdin",
     "output_type": "stream",
     "text": [
      "Please input a source node (input '0' to stop):  4\n",
      "Please input a sink node:  3\n"
     ]
    },
    {
     "name": "stdout",
     "output_type": "stream",
     "text": [
      "4-3: [15]\n"
     ]
    },
    {
     "name": "stdin",
     "output_type": "stream",
     "text": [
      "Please input a source node (input '0' to stop):  0\n"
     ]
    },
    {
     "name": "stdout",
     "output_type": "stream",
     "text": [
      "-END-\n"
     ]
    }
   ],
   "source": [
    "\"\"\"\n",
    "This code can run without problem.\n",
    "How to run:\n",
    "1. Please input network filename:\n",
    "2. Then it does the shortest path calculation by matrix multiplication\n",
    "3. then use a while loop to ask the user to input the origin  (say, s)\n",
    "     if the origin is '0', then the code STOP\n",
    "     else the code will ask the user to input the destination (say, t), and output the shortest distance from s to t \n",
    "\n",
    "This code is written by 王晏國, email h44114025@gs.ncku.edu.tw, on 2023/12/2\n",
    "\"\"\"\n",
    "\n",
    "import copy\n",
    "import re\n",
    "import numpy as np\n",
    "\n",
    "# 前處理\n",
    "def sp_to_txt(sp_file, txt_file):\n",
    "    with open(sp_file, \"r\") as sp:\n",
    "        with open(txt_file, \"w\") as txt:\n",
    "            for line in sp:\n",
    "                if line[0] == \"c\":\n",
    "                    continue\n",
    "                elif line[0] == \"t\":\n",
    "                    modified_line = re.sub('\\s+', ',', line)\n",
    "                    txt.write(modified_line + '\\n')\n",
    "                elif line[0] == \"a\":\n",
    "                    modified_line = re.sub('\\s+', ',', line)\n",
    "                    txt.write(modified_line + '\\n')\n",
    "                elif line[0] == \"p\":\n",
    "                    modified_line = re.sub('\\s+', ',', line)\n",
    "                    txt.write(modified_line + '\\n')\n",
    "                elif line[0] == \"n\":\n",
    "                    modified_line = re.sub('\\s+', ',', line)\n",
    "                    txt.write(modified_line + '\\n')\n",
    "\n",
    "def filename():\n",
    "    with open(txt_file, \"r\") as file:\n",
    "        filename = file.readline().split(\",\")[1]\n",
    "\n",
    "    return filename\n",
    "\n",
    "def extract_numbers(line):\n",
    "    # 使用正則表達式匹配數字\n",
    "    numbers = re.findall(r'\\d+', line)\n",
    "    # 將匹配到的數字轉換為整數\n",
    "    numbers = [int(num) for num in numbers]\n",
    "    return numbers\n",
    "\n",
    "def sp_to_list(txt_file):\n",
    "    in_list = []\n",
    "    # 開啟.sp檔案以讀取模式\n",
    "    with open(txt_file, 'r') as num_file:\n",
    "        for line in num_file:\n",
    "            # 提取每一行的數字並形成串列\n",
    "            numbers = extract_numbers(line)\n",
    "            in_list.append(numbers)\n",
    "\n",
    "    return in_list\n",
    "\n",
    "\"\"\"---------------------------------------------------------------\"\"\"\n",
    "#Functions\n",
    "\n",
    "def Measure_matrix():\n",
    "    C = np.zeros((numbers_list[1][0], numbers_list[1][0]))\n",
    "    for index in range(len(numbers_list)):\n",
    "        if index <= 2:\n",
    "            continue\n",
    "        elif index > 2:\n",
    "            C[numbers_list[index][0]-1][numbers_list[index][1]-1] = numbers_list[index][2]\n",
    "\n",
    "    for i in range(len(C)):\n",
    "        for j in range(len(C)):\n",
    "            if C[i][j] == 0 and i != j:\n",
    "                C[i][j] = 1000\n",
    "\n",
    "    C2 = copy.deepcopy(C)   # 完全複製C(無任何地址重複)\n",
    "    for c_row in range(len(C2)):\n",
    "        for c_column in range(len(C2)):\n",
    "            in_column = 0\n",
    "            min_list = []\n",
    "            for in_row in range(len(C2)):\n",
    "                min_list.append(C[c_row][in_column] + C[in_row][c_column])\n",
    "                in_column += 1\n",
    "            C2[c_row][c_column] = min(min_list)\n",
    "\n",
    "    C3 = np.zeros((numbers_list[1][0], numbers_list[1][0]))\n",
    "    if np.array_equal(C2, C) == False:\n",
    "        while True:\n",
    "            for c_row in range(len(C)):\n",
    "                for c_column in range(len(C)):\n",
    "                    in_column = 0\n",
    "                    min_list = []\n",
    "                    for in_row in range(len(C)):\n",
    "                        min_list.append(C2[c_row][in_column] + C[in_row][c_column])\n",
    "                        in_column += 1\n",
    "                    C3[c_row][c_column] = min(min_list)\n",
    "            if np.array_equal(C3, C2) == True:\n",
    "                return C3\n",
    "            elif np.array_equal(C3, C2) == False:\n",
    "                C2 = copy.deepcopy(C3)\n",
    "                continue\n",
    "\n",
    "\n",
    "sp_file = input(\"Please input network filename: \")\n",
    "txt_file = \"output.txt\"\n",
    "sp_to_txt(sp_file, txt_file)\n",
    "numbers_list = sp_to_list(txt_file)\n",
    "# print(numbers_list)\n",
    "\n",
    "m_matrix = Measure_matrix()\n",
    "while True:\n",
    "    source_node = int(input(\"Please input a source node (input '0' to stop): \"))\n",
    "    if source_node != 0:\n",
    "        sink_node = int(input(\"Please input a sink node: \"))\n",
    "        if sink_node != 0 and m_matrix[source_node-1][sink_node-1] >= 1000:\n",
    "            print(f\"{source_node}-{sink_node}: The path do not exist!\")\n",
    "        elif sink_node != 0 and m_matrix[source_node-1][sink_node-1] < 1000:\n",
    "            print(f\"{source_node}-{sink_node}: [{int(m_matrix[source_node-1][sink_node-1])}]\")\n",
    "    else:\n",
    "        print(\"-END-\")\n",
    "        break\n"
   ]
  },
  {
   "cell_type": "code",
   "execution_count": null,
   "id": "85d5108a-1bf1-4fa5-a919-31d7ba591732",
   "metadata": {},
   "outputs": [],
   "source": []
  }
 ],
 "metadata": {
  "kernelspec": {
   "display_name": "Python 3 (ipykernel)",
   "language": "python",
   "name": "python3"
  },
  "language_info": {
   "codemirror_mode": {
    "name": "ipython",
    "version": 3
   },
   "file_extension": ".py",
   "mimetype": "text/x-python",
   "name": "python",
   "nbconvert_exporter": "python",
   "pygments_lexer": "ipython3",
   "version": "3.9.12"
  }
 },
 "nbformat": 4,
 "nbformat_minor": 5
}
